{
 "metadata": {
  "language_info": {
   "codemirror_mode": {
    "name": "ipython",
    "version": 3
   },
   "file_extension": ".py",
   "mimetype": "text/x-python",
   "name": "python",
   "nbconvert_exporter": "python",
   "pygments_lexer": "ipython3",
   "version": "3.7.7"
  },
  "orig_nbformat": 2,
  "kernelspec": {
   "name": "python377jvsc74a57bd01524824e3f0c83810fc9aefd4d85168626f1cce80efd3b81c1b3d2bfe66cf15a",
   "display_name": "Python 3.7.7 64-bit ('Torch-37': conda)"
  }
 },
 "nbformat": 4,
 "nbformat_minor": 2,
 "cells": [
  {
   "cell_type": "code",
   "execution_count": 1,
   "metadata": {},
   "outputs": [],
   "source": [
    "import datetime"
   ]
  },
  {
   "cell_type": "code",
   "execution_count": 8,
   "metadata": {},
   "outputs": [
    {
     "output_type": "execute_result",
     "data": {
      "text/plain": [
       "'2021-05-22'"
      ]
     },
     "metadata": {},
     "execution_count": 8
    }
   ],
   "source": [
    "str(datetime.date.today().isoformat())"
   ]
  },
  {
   "cell_type": "code",
   "execution_count": 1,
   "metadata": {},
   "outputs": [],
   "source": [
    "string = \"projects/AERIAL_CACTUS/model_output/model_RESNET18_2021-05-25_0.bin\""
   ]
  },
  {
   "cell_type": "code",
   "execution_count": 19,
   "metadata": {},
   "outputs": [
    {
     "output_type": "execute_result",
     "data": {
      "text/plain": [
       "'model_resnet_0.956'"
      ]
     },
     "metadata": {},
     "execution_count": 19
    }
   ],
   "source": [
    "string.rsplit(\"_\", 1)[0]"
   ]
  },
  {
   "cell_type": "code",
   "execution_count": 3,
   "metadata": {},
   "outputs": [],
   "source": [
    "fold = 2"
   ]
  },
  {
   "cell_type": "code",
   "execution_count": 4,
   "metadata": {},
   "outputs": [
    {
     "output_type": "execute_result",
     "data": {
      "text/plain": [
       "'projects/AERIAL_CACTUS/model_output/model_RESNET18_2021-05-25_2.bin'"
      ]
     },
     "metadata": {},
     "execution_count": 4
    }
   ],
   "source": [
    "string.rsplit(\"_\", 1)[0] + \"_\" + str(fold) + \".bin\""
   ]
  },
  {
   "cell_type": "code",
   "execution_count": 12,
   "metadata": {},
   "outputs": [],
   "source": [
    "import glob\n",
    "image_path = []\n",
    "for filename in glob.glob(os.path.join(\"D:/Documents/GitHub/image_pipeline/data/aerial-cactus-identification/test/\", \"*.jpg\")):\n",
    "    filename = filename.split(\"\\\\\", -1)[-1]\n",
    "    image_path.append(filename)"
   ]
  },
  {
   "cell_type": "code",
   "execution_count": 5,
   "metadata": {},
   "outputs": [],
   "source": [
    "import pandas as pd\n",
    "import glob\n",
    "image_path = []\n",
    "for filename in glob.glob(os.path.join(\"D:/Documents/GitHub/image_pipeline/data/aerial-cactus-identification/test/\", \"*.jpg\")):\n",
    "    filename = filename.split(\"\\\\\", -1)[-1]\n",
    "    image_path.append(filename)\n",
    "df_test = pd.DataFrame({\"id\" : image_path})"
   ]
  },
  {
   "cell_type": "code",
   "execution_count": 7,
   "metadata": {},
   "outputs": [
    {
     "output_type": "execute_result",
     "data": {
      "text/plain": [
       "                                        id\n",
       "0     000940378805c44108d287872b2f04ce.jpg\n",
       "1     0017242f54ececa4512b4d7937d1e21e.jpg\n",
       "2     001ee6d8564003107853118ab87df407.jpg\n",
       "3     002e175c3c1e060769475f52182583d0.jpg\n",
       "4     0036e44a7e8f7218e9bc7bf8137e4943.jpg\n",
       "...                                    ...\n",
       "3995  ffaafd0c9f2f0e73172848463bc2e523.jpg\n",
       "3996  ffae37344310a1549162493237d25d3f.jpg\n",
       "3997  ffbd469c56873d064326204aac546e0d.jpg\n",
       "3998  ffcb76b7d47f29ece11c751e5f763f52.jpg\n",
       "3999  fffed17d1a8e0433a934db518d7f532c.jpg\n",
       "\n",
       "[4000 rows x 1 columns]"
      ],
      "text/html": "<div>\n<style scoped>\n    .dataframe tbody tr th:only-of-type {\n        vertical-align: middle;\n    }\n\n    .dataframe tbody tr th {\n        vertical-align: top;\n    }\n\n    .dataframe thead th {\n        text-align: right;\n    }\n</style>\n<table border=\"1\" class=\"dataframe\">\n  <thead>\n    <tr style=\"text-align: right;\">\n      <th></th>\n      <th>id</th>\n    </tr>\n  </thead>\n  <tbody>\n    <tr>\n      <th>0</th>\n      <td>000940378805c44108d287872b2f04ce.jpg</td>\n    </tr>\n    <tr>\n      <th>1</th>\n      <td>0017242f54ececa4512b4d7937d1e21e.jpg</td>\n    </tr>\n    <tr>\n      <th>2</th>\n      <td>001ee6d8564003107853118ab87df407.jpg</td>\n    </tr>\n    <tr>\n      <th>3</th>\n      <td>002e175c3c1e060769475f52182583d0.jpg</td>\n    </tr>\n    <tr>\n      <th>4</th>\n      <td>0036e44a7e8f7218e9bc7bf8137e4943.jpg</td>\n    </tr>\n    <tr>\n      <th>...</th>\n      <td>...</td>\n    </tr>\n    <tr>\n      <th>3995</th>\n      <td>ffaafd0c9f2f0e73172848463bc2e523.jpg</td>\n    </tr>\n    <tr>\n      <th>3996</th>\n      <td>ffae37344310a1549162493237d25d3f.jpg</td>\n    </tr>\n    <tr>\n      <th>3997</th>\n      <td>ffbd469c56873d064326204aac546e0d.jpg</td>\n    </tr>\n    <tr>\n      <th>3998</th>\n      <td>ffcb76b7d47f29ece11c751e5f763f52.jpg</td>\n    </tr>\n    <tr>\n      <th>3999</th>\n      <td>fffed17d1a8e0433a934db518d7f532c.jpg</td>\n    </tr>\n  </tbody>\n</table>\n<p>4000 rows × 1 columns</p>\n</div>"
     },
     "metadata": {},
     "execution_count": 7
    }
   ],
   "source": [
    "df_test"
   ]
  },
  {
   "cell_type": "code",
   "execution_count": 10,
   "metadata": {},
   "outputs": [
    {
     "output_type": "execute_result",
     "data": {
      "text/plain": [
       "tensor([[-0.4279,  0.9360],\n",
       "        [-0.0196, -0.2432]])"
      ]
     },
     "metadata": {},
     "execution_count": 10
    }
   ],
   "source": [
    "import torch\n",
    "input = torch.randn(2, 2)\n",
    "input"
   ]
  },
  {
   "cell_type": "code",
   "execution_count": 2,
   "metadata": {},
   "outputs": [
    {
     "output_type": "execute_result",
     "data": {
      "text/plain": [
       "tensor([[0.3935, 0.8288],\n",
       "        [0.6065, 0.1712]])"
      ]
     },
     "metadata": {},
     "execution_count": 2
    }
   ],
   "source": [
    "input.softmax(dim=0)"
   ]
  },
  {
   "cell_type": "code",
   "execution_count": 3,
   "metadata": {},
   "outputs": [
    {
     "output_type": "execute_result",
     "data": {
      "text/plain": [
       "tensor([[0.5163, 0.4837],\n",
       "        [0.8885, 0.1115]])"
      ]
     },
     "metadata": {},
     "execution_count": 3
    }
   ],
   "source": [
    "input.softmax(dim=1)"
   ]
  },
  {
   "cell_type": "code",
   "execution_count": 11,
   "metadata": {},
   "outputs": [],
   "source": [
    "import numpy as np \n",
    "input = input.cpu().detach().numpy()\n",
    "index = input.argmax(axis=1)\n",
    "max = input[index]"
   ]
  },
  {
   "cell_type": "code",
   "execution_count": 12,
   "metadata": {},
   "outputs": [
    {
     "output_type": "execute_result",
     "data": {
      "text/plain": [
       "array([1, 0], dtype=int64)"
      ]
     },
     "metadata": {},
     "execution_count": 12
    }
   ],
   "source": [
    "index"
   ]
  },
  {
   "cell_type": "code",
   "execution_count": 13,
   "metadata": {},
   "outputs": [
    {
     "output_type": "execute_result",
     "data": {
      "text/plain": [
       "array([[-0.01956172, -0.24322473],\n",
       "       [-0.42787918,  0.9360284 ]], dtype=float32)"
      ]
     },
     "metadata": {},
     "execution_count": 13
    }
   ],
   "source": [
    "max"
   ]
  },
  {
   "cell_type": "code",
   "execution_count": 14,
   "metadata": {},
   "outputs": [
    {
     "output_type": "execute_result",
     "data": {
      "text/plain": [
       "array([[-0.42787918,  0.9360284 ],\n",
       "       [-0.01956172, -0.24322473]], dtype=float32)"
      ]
     },
     "metadata": {},
     "execution_count": 14
    }
   ],
   "source": [
    "input"
   ]
  },
  {
   "cell_type": "code",
   "execution_count": null,
   "metadata": {},
   "outputs": [],
   "source": []
  }
 ]
}